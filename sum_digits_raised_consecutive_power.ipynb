{
 "cells": [
  {
   "cell_type": "markdown",
   "metadata": {},
   "source": [
    "### Take a Number And Sum Its Digits Raised To The Consecutive Powers"
   ]
  },
  {
   "cell_type": "markdown",
   "metadata": {},
   "source": [
    "The number 89 is the first integer with more than one digit that fulfills the property partially introduced in the title of this kata. What's the use of saying \"Eureka\"? Because this sum gives the same number.\n",
    "\n",
    "In effect: 89 = 8^1 + 9^2\n",
    "\n",
    "The next number in having this property is 135.\n",
    "\n",
    "See this property again: 135 = 1^1 + 3^2 + 5^3\n",
    "\n",
    "We need a function to collect these numbers, that may receive two integers a, b that defines the range [a, b] (inclusive) and outputs a list of the sorted numbers in the range that fulfills the property described above.\n",
    "\n",
    "#### Examples\n",
    "\n",
    "* sum_dig_pow(1, 10) == [1, 2, 3, 4, 5, 6, 7, 8, 9]\n",
    "\n",
    "* sum_dig_pow(1, 100) == [1, 2, 3, 4, 5, 6, 7, 8, 9, 89]\n",
    "\n",
    "If there are no numbers of this kind in the range [a, b] the function should output an empty list.\n",
    "\n",
    "* sum_dig_pow(90, 100) == []"
   ]
  },
  {
   "cell_type": "markdown",
   "metadata": {},
   "source": [
    "### Solution 1"
   ]
  },
  {
   "cell_type": "code",
   "execution_count": 49,
   "metadata": {
    "collapsed": true
   },
   "outputs": [],
   "source": [
    "def check_powers(number):\n",
    "    \"\"\"Check if consecutive powers sum of number is equal to number itself\n",
    "\n",
    "    Args:\n",
    "        number (int): Number to check\n",
    "    \n",
    "    Returns:\n",
    "        bool\n",
    "    \n",
    "    Examples:\n",
    "        >>> check_powers(1)\n",
    "        True\n",
    "        >>> check_powers(12)\n",
    "        False\n",
    "    \"\"\"\n",
    "    new = sum(int(char)**(i + 1) for i, char in enumerate(str(number)))\n",
    "    return number == new\n",
    "\n",
    "def sum_dig_pow(start, stop):\n",
    "    \"\"\"Return list of all number with consecutive powers sum property from the given range\n",
    "    \n",
    "    Args:\n",
    "        start (int): Range start\n",
    "        stop (int): Range stop (including)\n",
    "    \n",
    "    Returns:\n",
    "        list: List of appropriate numbers\n",
    "    \n",
    "    Examples:\n",
    "        >>> sum_dig_pow(5, 12)\n",
    "        [5, 6, 7, 8, 9]\n",
    "        >>> sum_dig_pow(13, 20)\n",
    "        []\n",
    "    \"\"\"\n",
    "    return [num for num in range(start, stop + 1) if check_powers(num)]"
   ]
  },
  {
   "cell_type": "code",
   "execution_count": 51,
   "metadata": {
    "collapsed": false
   },
   "outputs": [
    {
     "data": {
      "text/plain": [
       "[1, 2, 3, 4, 5, 6, 7, 8, 9, 89, 135, 175, 518, 598, 1306, 1676, 2427]"
      ]
     },
     "execution_count": 51,
     "metadata": {},
     "output_type": "execute_result"
    }
   ],
   "source": [
    "sum_dig_pow(1, 100000)"
   ]
  },
  {
   "cell_type": "markdown",
   "metadata": {},
   "source": [
    "### Solution 2"
   ]
  },
  {
   "cell_type": "code",
   "execution_count": 1,
   "metadata": {
    "collapsed": true
   },
   "outputs": [],
   "source": [
    "def filter_func(a):\n",
    "    return sum(int(d) ** (i+1) for i, d in enumerate(str(a))) == a\n",
    "\n",
    "def sum_dig_pow(a, b):\n",
    "    return filter(filter_func, range(a, b+1))"
   ]
  },
  {
   "cell_type": "code",
   "execution_count": 2,
   "metadata": {
    "collapsed": false
   },
   "outputs": [
    {
     "data": {
      "text/plain": [
       "[1, 2, 3, 4, 5, 6, 7, 8, 9, 89, 135, 175, 518, 598, 1306, 1676, 2427]"
      ]
     },
     "execution_count": 2,
     "metadata": {},
     "output_type": "execute_result"
    }
   ],
   "source": [
    "sum_dig_pow(1, 100000)"
   ]
  },
  {
   "cell_type": "markdown",
   "metadata": {},
   "source": [
    "### Solution 3"
   ]
  },
  {
   "cell_type": "code",
   "execution_count": 3,
   "metadata": {
    "collapsed": true
   },
   "outputs": [],
   "source": [
    "def dig_pow(n):\n",
    "    return sum(int(x)**y for y,x in enumerate(str(n), 1))\n",
    "\n",
    "def sum_dig_pow(a, b): \n",
    "    return [x for x in range(a,b + 1) if x == dig_pow(x)]"
   ]
  },
  {
   "cell_type": "code",
   "execution_count": 7,
   "metadata": {
    "collapsed": false
   },
   "outputs": [
    {
     "data": {
      "text/plain": [
       "[1, 2, 3, 4, 5, 6, 7, 8, 9, 89, 135, 175, 518, 598, 1306, 1676, 2427]"
      ]
     },
     "execution_count": 7,
     "metadata": {},
     "output_type": "execute_result"
    }
   ],
   "source": [
    "sum_dig_pow(1, 100000)"
   ]
  },
  {
   "cell_type": "markdown",
   "metadata": {},
   "source": [
    "### Solution 4"
   ]
  },
  {
   "cell_type": "code",
   "execution_count": 8,
   "metadata": {
    "collapsed": true
   },
   "outputs": [],
   "source": [
    "sum_dig_pow=lambda a,b:[n for n in range(a,b+1) if sum(long(x)**(i+1) for i,x in enumerate(str(n)))==n]"
   ]
  },
  {
   "cell_type": "code",
   "execution_count": 9,
   "metadata": {
    "collapsed": false
   },
   "outputs": [
    {
     "data": {
      "text/plain": [
       "[1, 2, 3, 4, 5, 6, 7, 8, 9, 89, 135, 175, 518, 598, 1306, 1676, 2427]"
      ]
     },
     "execution_count": 9,
     "metadata": {},
     "output_type": "execute_result"
    }
   ],
   "source": [
    "sum_dig_pow(1, 100000)"
   ]
  },
  {
   "cell_type": "code",
   "execution_count": null,
   "metadata": {
    "collapsed": true
   },
   "outputs": [],
   "source": []
  }
 ],
 "metadata": {
  "kernelspec": {
   "display_name": "Python 2",
   "language": "python",
   "name": "python2"
  },
  "language_info": {
   "codemirror_mode": {
    "name": "ipython",
    "version": 2
   },
   "file_extension": ".py",
   "mimetype": "text/x-python",
   "name": "python",
   "nbconvert_exporter": "python",
   "pygments_lexer": "ipython2",
   "version": "2.7.13"
  }
 },
 "nbformat": 4,
 "nbformat_minor": 2
}
