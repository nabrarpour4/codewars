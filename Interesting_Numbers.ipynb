{
 "cells": [
  {
   "cell_type": "code",
   "execution_count": 1,
   "metadata": {
    "collapsed": true
   },
   "outputs": [],
   "source": [
    "import numpy as np"
   ]
  },
  {
   "cell_type": "markdown",
   "metadata": {},
   "source": [
    "* \"7777...8?!??!\", exclaimed Bob, \"I missed it again! Argh!\" Every time there's an interesting number coming up, he notices and then promptly forgets. Who doesn't like catching those one-off interesting mileage numbers?\n",
    "* Let's make it so Bob never misses another interesting number. We've hacked into his car's computer, and we have a box hooked up that reads mileage numbers. We've got a box glued to his dash that lights up yellow or green depending on whether it receives a 1 or a 2 (respectively).\n",
    "\n",
    "It's up to you, intrepid warrior, to glue the parts together. Write the function that parses the mileage number input, and returns a 2 if the number is \"interesting\" (see below), a 1 if an interesting number occurs within the next two miles, or a 0 if the number is not interesting.\n",
    "\n",
    "#### Interesting numbers are 3-or-more digit numbers that meet one or more of the following criteria:\n",
    "\n",
    "* Any digit followed by all zeros: 100, 90000\n",
    "* Every digit is the same number: 1111\n",
    "* The digits are sequential, incementing†: 1234\n",
    "* The digits are sequential, decrementing‡: 4321\n",
    "* The digits are a palindrome: 1221 or 73837\n",
    "* The digits match one of the values in the awesome_phrases array\n",
    "* For incrementing sequences, 0 should come after 9, and not before 1, as in 7890.\n",
    "* For decrementing sequences, 0 should come after 1, and not before 9, as in 3210.\n",
    "\n",
    "* So, you should expect these inputs and outputs:\n",
    "\n",
    "#### 'Boring\" numbers\n",
    "\n",
    "is_interesting(3, [1337, 256])    # 0\n",
    "\n",
    "is_interesting(3236, [1337, 256]) # 0\n",
    "\n",
    "#### Progress as we near an \"interesting\" number\n",
    "\n",
    "is_interesting(11207, []) # 0\n",
    "\n",
    "is_interesting(11208, []) # 0\n",
    "\n",
    "is_interesting(11209, []) # 1\n",
    "\n",
    "is_interesting(11210, []) # 1\n",
    "\n",
    "is_interesting(11211, []) # 2\n",
    "\n",
    "#### Nearing a provided \"awesome phrase\"\n",
    "\n",
    "is_interesting(1335, [1337, 256]) # 1\n",
    "\n",
    "is_interesting(1336, [1337, 256]) # 1\n",
    "\n",
    "is_interesting(1337, [1337, 256]) # 2\n",
    "\n",
    "#### Error Checking\n",
    "\n",
    "* A number is only interesting if it is greater than 99!\n",
    "\n",
    "* Input will always be an integer greater than 0, and less than 1,000,000,000.\n",
    "\n",
    "* The awesomePhrases array will always be provided, and will always be an array, but may be empty. (Not everyone thinks numbers spell funny words...)\n",
    "\n",
    "* You should only ever output 0, 1, or 2."
   ]
  },
  {
   "cell_type": "markdown",
   "metadata": {
    "collapsed": false
   },
   "source": [
    "### Method 1"
   ]
  },
  {
   "cell_type": "code",
   "execution_count": 97,
   "metadata": {
    "collapsed": false
   },
   "outputs": [],
   "source": [
    "import re\n",
    "def is_sequential(string):\n",
    "    return string in \"1234567890\" or string in \"9876543210\"\n",
    "\n",
    "def is_interesting(number, awesome_phrases):\n",
    "    print (number)\n",
    "    interestingness = 2\n",
    "    for i in (number, number + 1, number + 2):\n",
    "        if (number != i):\n",
    "            interestingness = 1\n",
    "        if (i < 100):\n",
    "            continue\n",
    "        if (i in awesome_phrases):\n",
    "            return interestingness\n",
    "        i = str(i)\n",
    "        if re.match(r\"^\\d0+$\", i):\n",
    "            return interestingness\n",
    "        if i == i[::-1]:\n",
    "            return interestingness\n",
    "        if is_sequential(i):\n",
    "            return interestingness\n",
    "        if re.match(r\"^(\\d)\\1+$\", i):\n",
    "            return interestingness\n",
    "    \n",
    "    \n",
    "    return 0"
   ]
  },
  {
   "cell_type": "code",
   "execution_count": 99,
   "metadata": {
    "collapsed": false
   },
   "outputs": [
    {
     "name": "stdout",
     "output_type": "stream",
     "text": [
      "11210\n"
     ]
    },
    {
     "data": {
      "text/plain": [
       "1"
      ]
     },
     "execution_count": 99,
     "metadata": {},
     "output_type": "execute_result"
    }
   ],
   "source": [
    "is_interesting(11210, [])"
   ]
  },
  {
   "cell_type": "markdown",
   "metadata": {
    "collapsed": true
   },
   "source": [
    "### Method 2 "
   ]
  },
  {
   "cell_type": "code",
   "execution_count": 100,
   "metadata": {
    "collapsed": false
   },
   "outputs": [],
   "source": [
    "def is_incrementing(number): return str(number) in '1234567890'\n",
    "def is_decrementing(number): return str(number) in '9876543210'\n",
    "def is_palindrome(number):   return str(number) == str(number)[::-1]\n",
    "def is_round(number):        return set(str(number)[1:]) == set('0')\n",
    "\n",
    "def is_interesting(number, awesome_phrases):\n",
    "    tests = (is_round, is_incrementing, is_decrementing,\n",
    "             is_palindrome, awesome_phrases.__contains__)\n",
    "       \n",
    "    for num, color in zip(range(number, number+3), (2, 1, 1)):\n",
    "        if num >= 100 and any(test(num) for test in tests):\n",
    "            return color\n",
    "    return 0"
   ]
  },
  {
   "cell_type": "code",
   "execution_count": 101,
   "metadata": {
    "collapsed": false
   },
   "outputs": [
    {
     "data": {
      "text/plain": [
       "2"
      ]
     },
     "execution_count": 101,
     "metadata": {},
     "output_type": "execute_result"
    }
   ],
   "source": [
    "interesting(432,[])"
   ]
  },
  {
   "cell_type": "markdown",
   "metadata": {},
   "source": [
    "### Method 3 "
   ]
  },
  {
   "cell_type": "code",
   "execution_count": 85,
   "metadata": {
    "collapsed": false
   },
   "outputs": [],
   "source": [
    "def is_good(n, awesome):\n",
    "    return n in awesome or str(n) in \"1234567890 9876543210\" or str(n) == str(n)[::-1] or int(str(n)[1:]) == 0\n",
    "\n",
    "def is_interesting(n, awesome):\n",
    "    if n > 99 and is_good(n, awesome):\n",
    "        return 2\n",
    "    if n > 97 and (is_good(n + 1, awesome) or is_good(n + 2, awesome)):\n",
    "        return 1\n",
    "    return 0"
   ]
  },
  {
   "cell_type": "code",
   "execution_count": 86,
   "metadata": {
    "collapsed": false
   },
   "outputs": [
    {
     "name": "stdout",
     "output_type": "stream",
     "text": [
      "1\n",
      "1\n",
      "2\n"
     ]
    }
   ],
   "source": [
    "print is_interesting(1335, [1337, 256]) \n",
    "print is_interesting(1336, [1337, 256]) \n",
    "print is_interesting(1337, [1337, 256]) "
   ]
  },
  {
   "cell_type": "markdown",
   "metadata": {},
   "source": [
    "### Method 4"
   ]
  },
  {
   "cell_type": "code",
   "execution_count": 87,
   "metadata": {
    "collapsed": true
   },
   "outputs": [],
   "source": [
    "def is_interesting(n, awesome_phrases):\n",
    "    import math\n",
    "    for m in range(3):\n",
    "        s = str(n + m)\n",
    "        if len(s) > 2 and (zf(s) or sd(s) or seqinc(s) or seqdec(s) or pal(s) or awe(s, awesome_phrases)):\n",
    "            if m == 0: return 2\n",
    "            else: return 1\n",
    "    return 0\n",
    "    \n",
    "def awe(s, l):\n",
    "    return s in [str(x) for x in l]\n",
    "    \n",
    "def pal(s):\n",
    "    return s == s[::-1]\n",
    "    \n",
    "def seqdec(s):\n",
    "    a = '9876543210'\n",
    "    for i in range(len(s)-1):\n",
    "        if a.index(s[i]) + 1 != a.index(s[i+1]): return False\n",
    "    return True\n",
    "    \n",
    "def seqinc(s):\n",
    "    a = '1234567890'\n",
    "    for i in range(len(s)-1):\n",
    "        if a.index(s[i]) + 1 != a.index(s[i+1]): return False\n",
    "    return True\n",
    "\n",
    "def sd(s):\n",
    "    for i in range(len(s)-1):\n",
    "        if s[i] != s[i+1]: return False\n",
    "    return True\n",
    "\n",
    "def zf(s):\n",
    "    for i in range(1, len(s)):\n",
    "        if s[i] != '0': return False\n",
    "    return True"
   ]
  },
  {
   "cell_type": "code",
   "execution_count": 88,
   "metadata": {
    "collapsed": false
   },
   "outputs": [
    {
     "name": "stdout",
     "output_type": "stream",
     "text": [
      "1\n",
      "1\n",
      "2\n"
     ]
    }
   ],
   "source": [
    "print is_interesting(1335, [1337, 256]) \n",
    "print is_interesting(1336, [1337, 256]) \n",
    "print is_interesting(1337, [1337, 256]) "
   ]
  },
  {
   "cell_type": "markdown",
   "metadata": {},
   "source": [
    "### Method 5 "
   ]
  },
  {
   "cell_type": "code",
   "execution_count": 89,
   "metadata": {
    "collapsed": true
   },
   "outputs": [],
   "source": [
    "def is_interesting(number, awesome_phrases):\n",
    "    for i in [number, number+1, number+2]:\n",
    "        if i<100 :\n",
    "            continue\n",
    "        j=str(i)\n",
    "        if any([\n",
    "            i in awesome_phrases,\n",
    "            all([j[x]=='0' for x in range(1,len(j))]),\n",
    "            all([j[x]==j[0] for x in range(1,len(j))]),\n",
    "            j == j[::-1],\n",
    "            j in '1234567890',\n",
    "            j in '9876543210'\n",
    "                ]):\n",
    "            return 2-bool(number-i)\n",
    "    return 0"
   ]
  },
  {
   "cell_type": "code",
   "execution_count": 90,
   "metadata": {
    "collapsed": false
   },
   "outputs": [
    {
     "name": "stdout",
     "output_type": "stream",
     "text": [
      "1\n",
      "1\n",
      "2\n"
     ]
    }
   ],
   "source": [
    "print is_interesting(1335, [1337, 256]) \n",
    "print is_interesting(1336, [1337, 256]) \n",
    "print is_interesting(1337, [1337, 256]) "
   ]
  },
  {
   "cell_type": "markdown",
   "metadata": {},
   "source": [
    "### Method 6"
   ]
  },
  {
   "cell_type": "code",
   "execution_count": 91,
   "metadata": {
    "collapsed": false
   },
   "outputs": [],
   "source": [
    "def is_interesting(number, awesome_phrases, within=2):\n",
    "    if number in awesome_phrases: return 2\n",
    "    if number >= 100:\n",
    "        n = str(number)\n",
    "        if set(n[1:]) == {'0'}: return 2 # Finishing by 0\n",
    "        if len(set(n)) == 1: return 2    # Same digit\n",
    "        if n in '1234567890': return 2   # Incrementing\n",
    "        if n in '9876543210': return 2   # Decrementing\n",
    "        if n == n[::-1]: return 2        # Palindrome\n",
    "    return any(is_interesting(number+i+1, awesome_phrases, 0) for i in range(within))"
   ]
  },
  {
   "cell_type": "code",
   "execution_count": 92,
   "metadata": {
    "collapsed": false
   },
   "outputs": [
    {
     "name": "stdout",
     "output_type": "stream",
     "text": [
      "False\n",
      "True\n",
      "2\n"
     ]
    }
   ],
   "source": [
    "print is_interesting(1334, [1337, 256]) #False == 0\n",
    "print is_interesting(1336, [1337, 256]) #True == 1\n",
    "print is_interesting(1337, [1337, 256]) # 2"
   ]
  },
  {
   "cell_type": "code",
   "execution_count": null,
   "metadata": {
    "collapsed": true
   },
   "outputs": [],
   "source": []
  }
 ],
 "metadata": {
  "kernelspec": {
   "display_name": "Python 2",
   "language": "python",
   "name": "python2"
  },
  "language_info": {
   "codemirror_mode": {
    "name": "ipython",
    "version": 2
   },
   "file_extension": ".py",
   "mimetype": "text/x-python",
   "name": "python",
   "nbconvert_exporter": "python",
   "pygments_lexer": "ipython2",
   "version": "2.7.13"
  }
 },
 "nbformat": 4,
 "nbformat_minor": 2
}
