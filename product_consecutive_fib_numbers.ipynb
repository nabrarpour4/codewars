{
 "cells": [
  {
   "cell_type": "markdown",
   "metadata": {},
   "source": [
    "# Product of consecutive Fib numbers"
   ]
  },
  {
   "cell_type": "markdown",
   "metadata": {},
   "source": [
    "* The Fibonacci numbers are the numbers in the following integer sequence (Fn):\n",
    "\n",
    "0, 1, 1, 2, 3, 5, 8, 13, 21, 34, 55, 89, 144, 233, ...\n",
    "\n",
    "such as\n",
    "\n",
    "F(n) = F(n-1) + F(n-2) with F(0) = 0 and F(1) = 1.\n",
    "\n",
    "* Given a number, say prod (for product), we search two Fibonacci numbers F(n) and F(n+1) verifying\n",
    "\n",
    "F(n) * F(n+1) = prod.\n",
    "Your function productFib takes an integer (prod) and returns an array:\n",
    "\n",
    "[F(n), F(n+1), true] or {F(n), F(n+1), 1} or (F(n), F(n+1), True)\n",
    "depending on the language if F(n) * F(n+1) = prod.\n",
    "\n",
    "* If you don't find two consecutive F(m) verifying F(m) * F(m+1) = prodyou will return [F(m), F(m+1), false] or {F(n), F(n+1), 0} or (F(n), F(n+1), False), F(m) being the smallest one such as F(m) * F(m+1) > prod.\n",
    "\n",
    "#### Examples\n",
    "\n",
    "productFib(714) --> should return [21, 34, true], \n",
    "                 #Since F(8) = 21, F(9) = 34 and 714 = 21 * 34\n",
    "\n",
    "productFib(800) --> should return [34, 55, false], \n",
    "                #Since F(8) = 21, F(9) = 34, F(10) = 55 and 21 * 34 < 800 < 34 * 55\n",
    " \n",
    "\n",
    "* Notes: Not useful here but we can tell how to choose the number n up to which to go: we can use the \"golden ratio\" phi which is (1 + sqrt(5))/2 knowing that F(n) is asymptotic to: phi^n / sqrt(5). That gives a possible upper bound to n."
   ]
  },
  {
   "cell_type": "markdown",
   "metadata": {},
   "source": [
    "### Solution 1"
   ]
  },
  {
   "cell_type": "code",
   "execution_count": 17,
   "metadata": {
    "collapsed": true
   },
   "outputs": [],
   "source": [
    "def productFib(prod):\n",
    "    a, b = 0, 1\n",
    "    while prod > a * b:\n",
    "        a, b = b, a + b\n",
    "    return [a, b, prod == a * b]"
   ]
  },
  {
   "cell_type": "code",
   "execution_count": 18,
   "metadata": {
    "collapsed": false
   },
   "outputs": [
    {
     "data": {
      "text/plain": [
       "[34, 55, False]"
      ]
     },
     "execution_count": 18,
     "metadata": {},
     "output_type": "execute_result"
    }
   ],
   "source": [
    "productFib(800)"
   ]
  },
  {
   "cell_type": "markdown",
   "metadata": {},
   "source": [
    "### Solution 2"
   ]
  },
  {
   "cell_type": "code",
   "execution_count": 19,
   "metadata": {
    "collapsed": true
   },
   "outputs": [],
   "source": [
    "def productFib(prod):\n",
    "    a,b = 0,1\n",
    "    while a*b < prod:\n",
    "        a,b = b, b+a\n",
    "    return [a, b, a*b == prod]"
   ]
  },
  {
   "cell_type": "code",
   "execution_count": 20,
   "metadata": {
    "collapsed": false
   },
   "outputs": [
    {
     "data": {
      "text/plain": [
       "[21, 34, True]"
      ]
     },
     "execution_count": 20,
     "metadata": {},
     "output_type": "execute_result"
    }
   ],
   "source": [
    "productFib(714)"
   ]
  },
  {
   "cell_type": "markdown",
   "metadata": {},
   "source": [
    "### Solution 3"
   ]
  },
  {
   "cell_type": "code",
   "execution_count": 14,
   "metadata": {
    "collapsed": true
   },
   "outputs": [],
   "source": [
    "#Product of consecutive Fib numbers in python\n",
    "def productFib(n):\n",
    "    f=[1,1]\n",
    "    d1,d2,d3,product=0,0,0,0\n",
    "    while product<=n:\n",
    "        if product==n:\n",
    "            return ([d1,d2,True])\n",
    "        else:\n",
    "            product=0\n",
    "        \n",
    "        d1,d2=f[0],f[1]\n",
    "        d3=d1+d2\n",
    "        product=d1*d2\n",
    "        f[0],f[1]=d2,d3\n",
    "        \n",
    "\n",
    "    return([d1,d2,False])"
   ]
  },
  {
   "cell_type": "code",
   "execution_count": 15,
   "metadata": {
    "collapsed": false
   },
   "outputs": [
    {
     "data": {
      "text/plain": [
       "[21, 34, True]"
      ]
     },
     "execution_count": 15,
     "metadata": {},
     "output_type": "execute_result"
    }
   ],
   "source": [
    "productFib(714)"
   ]
  },
  {
   "cell_type": "code",
   "execution_count": 16,
   "metadata": {
    "collapsed": false
   },
   "outputs": [
    {
     "data": {
      "text/plain": [
       "[34, 55, False]"
      ]
     },
     "execution_count": 16,
     "metadata": {},
     "output_type": "execute_result"
    }
   ],
   "source": [
    "productFib(800)"
   ]
  },
  {
   "cell_type": "markdown",
   "metadata": {},
   "source": [
    "### Solution 4"
   ]
  },
  {
   "cell_type": "code",
   "execution_count": 21,
   "metadata": {
    "collapsed": true
   },
   "outputs": [],
   "source": [
    "class Fib(object):\n",
    "\n",
    "    \"\"\"docstring for Fib\"\"\"\n",
    "\n",
    "    def __init__(self):\n",
    "        super(Fib, self).__init__()\n",
    "        self._a = 0\n",
    "        self._b = 1\n",
    "\n",
    "    def __call__(self):\n",
    "      self._a, self._b = self._b, self._a + self._b\n",
    "      return self._a, self._b\n",
    "\n",
    "def productFib(prod):\n",
    "    # your code\n",
    "    fib = Fib()\n",
    "    a, b = fib()\n",
    "    while (a * b) < prod:\n",
    "      a, b = fib()\n",
    "\n",
    "    return [a, b, (a * b) == prod]"
   ]
  },
  {
   "cell_type": "code",
   "execution_count": 23,
   "metadata": {
    "collapsed": false
   },
   "outputs": [
    {
     "data": {
      "text/plain": [
       "[21, 34, True]"
      ]
     },
     "execution_count": 23,
     "metadata": {},
     "output_type": "execute_result"
    }
   ],
   "source": [
    "productFib(714)"
   ]
  },
  {
   "cell_type": "markdown",
   "metadata": {},
   "source": [
    "### Solution 5"
   ]
  },
  {
   "cell_type": "code",
   "execution_count": 26,
   "metadata": {
    "collapsed": true
   },
   "outputs": [],
   "source": [
    "def productFib(prod):\n",
    "    n = 3\n",
    "    fib_numbers = [1, 1]\n",
    "    while True:\n",
    "        fib_number = fib_numbers[-1] + fib_numbers[-2]\n",
    "        res = fib_number * fib_numbers[-1]\n",
    "        if res == prod:\n",
    "            return [fib_numbers[-1], fib_number, True]\n",
    "        if res > prod:\n",
    "            return [fib_numbers[-1], fib_number, False]\n",
    "\n",
    "        fib_numbers.append(fib_number)\n",
    "        n += 1"
   ]
  },
  {
   "cell_type": "code",
   "execution_count": 27,
   "metadata": {
    "collapsed": false
   },
   "outputs": [
    {
     "data": {
      "text/plain": [
       "[21, 34, True]"
      ]
     },
     "execution_count": 27,
     "metadata": {},
     "output_type": "execute_result"
    }
   ],
   "source": [
    "productFib(714)"
   ]
  },
  {
   "cell_type": "code",
   "execution_count": null,
   "metadata": {
    "collapsed": true
   },
   "outputs": [],
   "source": []
  }
 ],
 "metadata": {
  "kernelspec": {
   "display_name": "Python 2",
   "language": "python",
   "name": "python2"
  },
  "language_info": {
   "codemirror_mode": {
    "name": "ipython",
    "version": 2
   },
   "file_extension": ".py",
   "mimetype": "text/x-python",
   "name": "python",
   "nbconvert_exporter": "python",
   "pygments_lexer": "ipython2",
   "version": "2.7.13"
  }
 },
 "nbformat": 4,
 "nbformat_minor": 2
}
